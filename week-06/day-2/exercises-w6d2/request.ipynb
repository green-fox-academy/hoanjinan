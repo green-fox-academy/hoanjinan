{
 "cells": [
  {
   "cell_type": "code",
   "execution_count": 1,
   "metadata": {},
   "outputs": [],
   "source": [
    "import requests\n",
    "import json\n",
    "import urllib.parse"
   ]
  },
  {
   "cell_type": "code",
   "execution_count": 2,
   "metadata": {},
   "outputs": [
    {
     "name": "stdout",
     "output_type": "stream",
     "text": [
      "https://api.skypicker.com/aggregation_flights?fly_from=BRS&fly_to=PRG&v=3&date_from=19%2F12%2F2019&date_to=24%2F12%2F2019&flight_type=oneway&one_per_date=1&adults=1&curr=EUR&locale=en&max_stopovers=0&conn_on_diff_airport=0&sort=price&asc=1\n",
      "{'search_id': 'b6d428db-ca11-483f-ae85-1a403fb403af', 'data': [{'date': '2019-12-19', 'price': 101}, {'date': '2019-12-20', 'price': 110}, {'date': '2019-12-21', 'price': 123}, {'date': '2019-12-22', 'price': 115}, {'date': '2019-12-23', 'price': 96}, {'date': '2019-12-24', 'price': 87}], 'connections': [], 'time': 1, 'currency': 'EUR', 'currency_rate': 1.0, 'fx_rate': 1.0, 'refresh': [], 'del': 0, 'ref_tasks': [], 'search_params': {'flyFrom_type': 'airport', 'to_type': 'airport', 'seats': {'passengers': 1, 'adults': 1, 'children': 0, 'infants': 0}}, 'airlinesList': [], 'airportsList': [], 'all_airlines': [], 'all_prices': {'84-89': 1, '94-100': 1, '100-106': 1, '106-112': 1, '112-119': 1, '119-126': 1}, 'all_stopover_airports': [], 'best_results': [{'sort': 'price', 'price': 87, 'duration': 7200, 'quality': 114.99993}], 'hashtags': [{'name': 'morning', 'count': 5}, {'name': 'afternoon', 'count': 5}, {'name': 'tuesday', 'count': 1}, {'name': 'direct', 'count': 6}, {'name': 'duration:2-3', 'count': 6}, {'name': 'departure:13-14', 'count': 4}, {'name': 'arrival:16-17', 'count': 4}, {'name': 'monday', 'count': 1}, {'name': 'thursday', 'count': 1}, {'name': 'friday', 'count': 1}, {'name': 'evening', 'count': 1}, {'name': 'sunday', 'count': 1}, {'name': 'departure:17-18', 'count': 1}, {'name': 'arrival:20-21', 'count': 1}, {'name': 'saturday', 'count': 1}, {'name': 'departure:7-8', 'count': 1}, {'name': 'arrival:10-11', 'count': 1}], 'location_hashtags': ['sightseeing&culture', 'nightlife']}\n"
     ]
    }
   ],
   "source": [
    "api = 'https://api.skypicker.com/aggregation_flights?'\n",
    "url = api + urllib.parse.urlencode({\"fly_from\": \"BRS\",\n",
    "                                    \"fly_to\": \"PRG\",\n",
    "                                    \"v\": 3,\n",
    "                                    \"date_from\": \"19/12/2019\",\n",
    "                                    \"date_to\": \"24/12/2019\",\n",
    "                                    \"flight_type\": \"oneway\",\n",
    "                                    \"one_per_date\": 1,\n",
    "                                    \"adults\": 1,\n",
    "                                    \"curr\": \"EUR\",\n",
    "                                    \"locale\": \"en\",\n",
    "                                    \"max_stopovers\": 0,\n",
    "                                    \"conn_on_diff_airport\": 0,\n",
    "                                    \"sort\": \"price\",\n",
    "                                    \"asc\": 1})\n",
    "data = requests.get(url).json()\n",
    "print(url)\n",
    "print(data)\n",
    "# Example Link:\n",
    "# https://api.skypicker.com/aggregation_flights?fly_from=BRS&fly_to=PRG&v=3&date_from=19/12/2019&date_to=24/12/2019&flight_type=oneway&one_for_city=0&one_per_date=1&adults=1&children=0&infants=0&fly_days=[0,1,2,3,4,5,6]&fly_days_type=departure&only_working_days=0&only_weekends=0&partner_market=us&curr=EUR&locale=en&price_from=1&price_to=10000&dtime_from=00:00&dtime_to=00:00&atime_from=00:00&atime_to=00:00&stopover_from=00:00&stopover_to=00:00&max_stopovers=0&conn_on_diff_airport=0&select_stop_airport=BCN,FRA&select_stop_airport_exclude=False&vehicle_type=aircraft&limit=30&sort=price&asc=1&xml=0"
   ]
  },
  {
   "cell_type": "code",
   "execution_count": 3,
   "metadata": {},
   "outputs": [
    {
     "name": "stdout",
     "output_type": "stream",
     "text": [
      "[{'date': '2019-12-19', 'price': 101}, {'date': '2019-12-20', 'price': 110}, {'date': '2019-12-21', 'price': 123}, {'date': '2019-12-22', 'price': 115}, {'date': '2019-12-23', 'price': 96}, {'date': '2019-12-24', 'price': 87}]\n"
     ]
    }
   ],
   "source": [
    "print(data[\"data\"])"
   ]
  },
  {
   "cell_type": "code",
   "execution_count": 4,
   "metadata": {},
   "outputs": [
    {
     "name": "stdout",
     "output_type": "stream",
     "text": [
      "The cheapest price is: 87 euros on 2019-12-24\n"
     ]
    }
   ],
   "source": [
    "min_price = data[\"data\"][0][\"price\"]\n",
    "min_date = data[\"data\"][0][\"date\"]\n",
    "for i in data[\"data\"]:\n",
    "    if i[\"price\"] < min_price:\n",
    "        min_price = i[\"price\"]\n",
    "        min_date = i[\"date\"]\n",
    "print(f\"The cheapest price is: {min_price} euros on {min_date}\")"
   ]
  },
  {
   "cell_type": "raw",
   "metadata": {},
   "source": []
  }
 ],
 "metadata": {
  "kernelspec": {
   "display_name": "Python 3",
   "language": "python",
   "name": "python3"
  },
  "language_info": {
   "codemirror_mode": {
    "name": "ipython",
    "version": 3
   },
   "file_extension": ".py",
   "mimetype": "text/x-python",
   "name": "python",
   "nbconvert_exporter": "python",
   "pygments_lexer": "ipython3",
   "version": "3.7.3"
  }
 },
 "nbformat": 4,
 "nbformat_minor": 2
}
