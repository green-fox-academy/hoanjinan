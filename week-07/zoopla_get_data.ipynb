{
 "cells": [
  {
   "cell_type": "code",
   "execution_count": 3,
   "metadata": {},
   "outputs": [],
   "source": [
    "import requests\n",
    "import json\n",
    "import pandas as pd\n",
    "from bs4 import BeautifulSoup\n",
    "from pandas.io.json import json_normalize\n",
    "import urllib.parse\n"
   ]
  },
  {
   "cell_type": "code",
   "execution_count": 4,
   "metadata": {},
   "outputs": [
    {
     "data": {
      "text/plain": [
       "5761"
      ]
     },
     "execution_count": 4,
     "metadata": {},
     "output_type": "execute_result"
    }
   ],
   "source": [
    "def get_listing(page_number):\n",
    "    api = f\"http://api.zoopla.co.uk/api/v1/property_listings.json?\"\n",
    "    url = api + urllib.parse.urlencode({\"area\": \"somerset\",\n",
    "                                        \"listing_status\": \"sale\",\n",
    "                                        \"page_size\": 100,\n",
    "                                        \"page_number\": page_number,\n",
    "                                        \"include_sold\": 1,\n",
    "                                        \"api_key\": \"b3cza58mjqn3zgnsx6sq9eeg\"})\n",
    "    data = requests.get(url).json()\n",
    "    return data\n",
    "\n",
    "data = get_listing(1)\n",
    "result_count = data[\"result_count\"]\n",
    "result_count\n"
   ]
  },
  {
   "cell_type": "code",
   "execution_count": 5,
   "metadata": {},
   "outputs": [],
   "source": [
    "listing = []\n",
    "for i in range(1, round(result_count / 100) + 1):\n",
    "    listing_per_page = get_listing(i)\n",
    "    listing.extend(listing_per_page[\"listing\"])\n"
   ]
  },
  {
   "cell_type": "code",
   "execution_count": 6,
   "metadata": {},
   "outputs": [],
   "source": [
    "df = pd.DataFrame(listing)\n",
    "df.to_csv(path_or_buf = \"/Users/hoanjinan_otoko/Desktop/epam-ds-training/greenfox/hoanjinan/week-07/listing.csv\", index = False)\n"
   ]
  },
  {
   "cell_type": "code",
   "execution_count": null,
   "metadata": {},
   "outputs": [],
   "source": []
  }
 ],
 "metadata": {
  "file_extension": ".py",
  "kernelspec": {
   "display_name": "Python 3",
   "language": "python",
   "name": "python3"
  },
  "language_info": {
   "codemirror_mode": {
    "name": "ipython",
    "version": 3
   },
   "file_extension": ".py",
   "mimetype": "text/x-python",
   "name": "python",
   "nbconvert_exporter": "python",
   "pygments_lexer": "ipython3",
   "version": "3.7.3"
  },
  "mimetype": "text/x-python",
  "name": "python",
  "npconvert_exporter": "python",
  "pygments_lexer": "ipython3",
  "version": 3
 },
 "nbformat": 4,
 "nbformat_minor": 2
}
